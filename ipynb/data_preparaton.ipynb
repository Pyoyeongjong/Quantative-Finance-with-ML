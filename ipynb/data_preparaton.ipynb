{
 "cells": [
  {
   "cell_type": "code",
   "execution_count": null,
   "metadata": {
    "collapsed": true
   },
   "outputs": [],
   "source": [
    "# 바이낸스 API\n",
    "from binance.client import Client\n",
    "from binance.exceptions import BinanceAPIException\n",
    "from binance.enums import *\n",
    "\n",
    "# Time 동기화\n",
    "import time\n",
    "import win32api\n",
    "\n",
    "# 보조지표 계산/출력 라이브러리\n",
    "import talib\n",
    "import math\n",
    "import matplotlib.pyplot as plt\n",
    "\n",
    "# Numpy / pandas\n",
    "import numpy as np\n",
    "import pandas as pd\n",
    "import pytz\n",
    "\n",
    "# CSV파일\n",
    "import os\n",
    "import csv\n",
    "\n",
    "# Dict 깔끔한 출력\n",
    "import pprint\n",
    "\n",
    "# API 파일 경로\n",
    "api_key_file_path = \"../api.txt\""
   ]
  },
  {
   "cell_type": "code",
   "execution_count": null,
   "outputs": [],
   "source": [
    "# 클라이언트 변수\n",
    "_client = None"
   ],
   "metadata": {
    "collapsed": false
   }
  },
  {
   "cell_type": "code",
   "execution_count": null,
   "outputs": [],
   "source": [
    "#시스템 시간 동기화\n",
    "def set_system_time(serv_time):\n",
    "    gmtime = time.gmtime(int((serv_time[\"serverTime\"])/1000))\n",
    "    win32api.SetSystemTime(gmtime[0],\n",
    "                           gmtime[1],\n",
    "                           0,\n",
    "                           gmtime[2],\n",
    "                           gmtime[3],\n",
    "                           gmtime[4],\n",
    "                           gmtime[5],\n",
    "                           0)\n"
   ],
   "metadata": {
    "collapsed": false
   }
  },
  {
   "cell_type": "code",
   "execution_count": null,
   "outputs": [],
   "source": [
    "# API 키를 읽어오는 함수\n",
    "def read_api_keys(file_path):\n",
    "    with open(file_path, \"r\") as file:\n",
    "        api_key = file.readline().strip()\n",
    "        api_secret = file.readline().strip()\n",
    "    return api_key, api_secret"
   ],
   "metadata": {
    "collapsed": false
   }
  },
  {
   "cell_type": "code",
   "execution_count": null,
   "outputs": [],
   "source": [
    "def create_client():\n",
    "    global _client\n",
    "    ### 계좌 연결\n",
    "    binance_access_key, binance_secret_key = read_api_keys(api_key_file_path)\n",
    "    try:\n",
    "        _client = Client(binance_access_key, binance_secret_key)\n",
    "        server_time = _client.get_server_time()\n",
    "        set_system_time(server_time)\n",
    "    except BinanceAPIException as e:\n",
    "        print(e)\n",
    "        exit()\n",
    "    return\n",
    "\n",
    "# USDT 잔고 출력\n",
    "def get_usdt_balance(client, isprint):\n",
    "    usdt_balance = None\n",
    "    futures_account = client.futures_account_balance()\n",
    "    for asset in futures_account:\n",
    "        if asset['asset'] == \"USDT\":\n",
    "            usdt_balance = float(asset['balance'])\n",
    "            break\n",
    "    if usdt_balance is not None:\n",
    "        if isprint:\n",
    "            print(f\"USDT 잔고: {usdt_balance}\")\n",
    "    else:\n",
    "        print(\"USDT 잔고를 찾을 수 없습니다.\")\n",
    "    return usdt_balance"
   ],
   "metadata": {
    "collapsed": false
   }
  },
  {
   "cell_type": "code",
   "execution_count": null,
   "outputs": [],
   "source": [
    "### Initiation\n",
    "# row 생략 없이 출력\n",
    "pd.set_option('display.max_rows', 20)\n",
    "# col 생략 없이 출력\n",
    "pd.set_option('display.max_columns', None)\n",
    "# 가져올 분봉 데이터의 개수 (최대 500개까지 가능)\n",
    "limit = 500\n",
    "# 캔들 데이터 가져오기\n",
    "symbol = \"BTCUSDT\"\n",
    "# 계좌 연결\n",
    "create_client()\n",
    "get_usdt_balance(_client, True)"
   ],
   "metadata": {
    "collapsed": false
   }
  },
  {
   "cell_type": "code",
   "execution_count": null,
   "outputs": [],
   "source": [
    "# 디렉토리 생성\n",
    "data_dir = '../candle_data'\n",
    "\n",
    "# csv 파일 생성\n",
    "filename = \"candle_data_1d.csv\"\n",
    "filepath = os.path.join(data_dir, filename)\n",
    "\n",
    "with open(filepath, 'w', newline='') as csvfile:\n",
    "    writer = csv.writer(csvfile)\n",
    "    writer.writerow(['time', 'open', 'high', 'low', 'close', 'volume'])\n",
    "\n",
    "    print(\"Open Ok\")\n",
    "\n",
    "    klines = _client.get_historical_klines(\"BTCUSDT\", Client.KLINE_INTERVAL_1DAY, \"1 Jan, 2021\", \"30 Jun, 2023\")\n",
    "    print(\"Get Candles OK\")\n",
    "\n",
    "    for k in klines:\n",
    "        timestamp = k[0]\n",
    "        open_price = k[1]\n",
    "        high_price = k[2]\n",
    "        low_price = k[3]\n",
    "        close_price = k[4]\n",
    "        volume = k[5]\n",
    "        writer.writerow([timestamp, open_price, high_price, low_price, close_price, volume])\n",
    "\n",
    "print(\"Data fetching and saving completed.\")"
   ],
   "metadata": {
    "collapsed": false
   }
  },
  {
   "cell_type": "markdown",
   "source": [
    "### 헌재 데이터 뽑아오는 함수들"
   ],
   "metadata": {
    "collapsed": false
   }
  },
  {
   "cell_type": "code",
   "execution_count": null,
   "outputs": [],
   "source": [
    "def get_klines(client, symbol, limit, interval):\n",
    "    # klines 데이터 형태\n",
    "    # 0=Open time(ms), 1=Open, 2=High, 3=Low, 4=Close, 5=Voume,\n",
    "    # 6=Close time, 7=Quote asset vloume, 8=Number of trades\n",
    "    # 9=Taker buy base asset volume 10=Take buy quote asset volume [2차원 list]\n",
    "    klines_1m = client.get_klines(symbol=symbol, interval=interval, limit=limit)\n",
    "    col_name = ['time', 'open', 'high', 'low', 'close', 'volume', 'close time', 'quote', 'trade_num', 'taker_buy_base',\n",
    "                'taker_buy_quote', 'ignored']\n",
    "    return pd.DataFrame(klines_1m, columns=col_name)\n",
    "\n",
    "def get_klines_by_date(client, symbol, limit, interval, start_time, end_time):\n",
    "    start_timestamp = int(start_time.timestamp() * 1000)  # 밀리초 단위로 변환\n",
    "    end_timestamp = int(end_time.timestamp() * 1000)  # 밀리초 단위로 변환\n",
    "\n",
    "    candles = client.get_klines(symbol=symbol, interval=interval, limit=limit,\n",
    "                                startTime=start_timestamp, endTime=end_timestamp)\n",
    "    col_name = ['time', 'open', 'high', 'low', 'close', 'volume', 'close time', 'quote', 'trade_num', 'taker_buy_base',\n",
    "                'taker_buy_quote', 'ignored']\n",
    "    return pd.DataFrame(candles, columns=col_name)"
   ],
   "metadata": {
    "collapsed": false
   }
  },
  {
   "cell_type": "code",
   "execution_count": null,
   "outputs": [],
   "source": [
    "def get_candles(client, sym, limit):\n",
    "    candles_1m = get_klines(client, sym, limit, Client.KLINE_INTERVAL_1MINUTE)\n",
    "    candles_5m = get_klines(client, sym, limit, Client.KLINE_INTERVAL_5MINUTE)\n",
    "    candles_15m = get_klines(client, sym, limit, Client.KLINE_INTERVAL_15MINUTE)\n",
    "    candles_1h = get_klines(client, sym, limit, Client.KLINE_INTERVAL_1HOUR)\n",
    "    candles_4h = get_klines(client, sym, limit, Client.KLINE_INTERVAL_4HOUR)\n",
    "    candles_1d = get_klines(client, sym, limit, Client.KLINE_INTERVAL_1DAY)\n",
    "    candles_1w = get_klines(client, sym, limit, Client.KLINE_INTERVAL_1WEEK)\n",
    "\n",
    "    return candles_1m, candles_5m, candles_15m, candles_1h, candles_4h, candles_1d, candles_1w"
   ],
   "metadata": {
    "collapsed": false
   }
  },
  {
   "cell_type": "markdown",
   "source": [
    "### 추가 지표"
   ],
   "metadata": {
    "collapsed": false
   }
  },
  {
   "cell_type": "code",
   "execution_count": null,
   "outputs": [],
   "source": [
    "def get_candle_subdatas(candles):\n",
    "    ### 데이터 분석\n",
    "    # 문자열 -> 숫자 변환 && Pd Series\n",
    "    close = candles['close'].apply(pd.to_numeric)  # 종가 값 활용\n",
    "    # Numpy밖에 못 쓴다 -> .to_numpy()\n",
    "    sma7 = pd.Series(talib.SMA(close.to_numpy(), timeperiod=7), name=\"sma7\")\n",
    "    sma20 = pd.Series(talib.SMA(close.to_numpy(), timeperiod=20), name=\"sma20\")\n",
    "    sma60 = pd.Series(talib.SMA(close.to_numpy(), timeperiod=60), name=\"sma60\")\n",
    "    sma120 = pd.Series(talib.SMA(close.to_numpy(), timeperiod=120), name=\"sma120\")\n",
    "\n",
    "    rsi = pd.Series(talib.RSI(close.to_numpy(), timeperiod=14), name=\"rsi\")\n",
    "    _volume = candles['volume'].apply(pd.to_numeric)\n",
    "    volume_sma = pd.Series(talib.SMA(_volume.to_numpy(), timeperiod=20), name=\"vol_sma\")\n",
    "    ### 한국 시간으로 맞춰주기 + DateTime으로 변환\n",
    "    # korea_tz = pytz.timezone('Asia/Seoul')\n",
    "    # datetime = pd.to_datetime(candles['time'], unit='ms')\n",
    "    # candles['time'] = datetime.dt.tz_localize(pytz.utc).dt.tz_convert(korea_tz)\n",
    "    # 볼린저 밴드\n",
    "    upperband, middleband, lowerband = talib.BBANDS(candles['close'], timeperiod=20, nbdevup=2, nbdevdn=2, matype=0)\n",
    "    upperband.name = \"upperband\"\n",
    "    lowerband.name = \"lowerband\"\n",
    "    # 트렌드\n",
    "    # inclination = calculate_trends(candles, 0)\n",
    "    # 연결\n",
    "    data = pd.concat([candles, sma7, sma20, sma60, sma120, rsi, volume_sma, upperband, lowerband],\n",
    "                     axis=1)\n",
    "    return data\n"
   ],
   "metadata": {
    "collapsed": false
   }
  },
  {
   "cell_type": "markdown",
   "source": [
    "### CSV 데이터 가져오기"
   ],
   "metadata": {
    "collapsed": false
   }
  },
  {
   "cell_type": "code",
   "execution_count": null,
   "outputs": [],
   "source": [
    "def read_csv_data(time):\n",
    "    candles_history = pd.read_csv(f\"../candle_data/candle_data_{time}.csv\")\n",
    "    return candles_history"
   ],
   "metadata": {
    "collapsed": false
   }
  },
  {
   "cell_type": "code",
   "execution_count": null,
   "outputs": [],
   "source": [
    "candles_history_1d = read_csv_data(\"1d\")\n",
    "candles_history_info_1d = get_candle_subdatas(candles_history_1d)"
   ],
   "metadata": {
    "collapsed": false
   }
  },
  {
   "cell_type": "code",
   "execution_count": null,
   "outputs": [],
   "source": [
    "candles_history_info_1d.info()"
   ],
   "metadata": {
    "collapsed": false
   }
  },
  {
   "cell_type": "code",
   "execution_count": null,
   "outputs": [],
   "source": [
    "def compute_atr(candles):\n",
    "    df = talib.ATR(candles.high, candles.low,\n",
    "             candles.close, timeperiod=14)\n",
    "    return df.sub(df.mean()).div(df.std())\n",
    "\n",
    "def compute_macd(close):\n",
    "    macd = talib.MACD(close)[0]\n",
    "    return (macd - np.mean(macd))/np.std(macd)"
   ],
   "metadata": {
    "collapsed": false
   }
  },
  {
   "cell_type": "code",
   "execution_count": null,
   "outputs": [],
   "source": [
    "candles_history_info_1d['atr'] = compute_atr(candles_history_info_1d)\n",
    "candles_history_info_1d['macd'] = compute_macd(candles_history_info_1d.close)"
   ],
   "metadata": {
    "collapsed": false
   }
  },
  {
   "cell_type": "code",
   "execution_count": null,
   "outputs": [],
   "source": [
    "lags = [1, 5, 10, 21, 42, 63]\n",
    "\n",
    "returns = candles_history_info_1d.close.pct_change() # pct_change() = 전날 대비 얼마나 변했는지\n",
    "\n",
    "percentiles=[.0001, .001, .01]\n",
    "percentiles+= [1-p for p in percentiles]\n",
    "returns.describe(percentiles=percentiles).iloc[2:].to_frame('percentiles').style.format(lambda x: f'{x:,.2%}')"
   ],
   "metadata": {
    "collapsed": false
   }
  },
  {
   "cell_type": "code",
   "execution_count": null,
   "outputs": [],
   "source": [
    "q = 0.0001\n",
    "for lag in lags:\n",
    "    candles_history_info_1d[f'return_{lag}d'] = (candles_history_info_1d.close\n",
    "                                .pct_change(lag)\n",
    "                                .pipe(lambda x: x.clip(lower=x.quantile(q),\n",
    "                                                       upper=x.quantile(1 - q))) # 특이값 자르기 ( 상위 q, 하위 q 삭제 )\n",
    "                                .add(1) # 자수계산을 취하기 위해\n",
    "                                .pow(1 / lag)\n",
    "                                .sub(1) # 지수계산했으니 이제 다시 빼준다.\n",
    "                                )"
   ],
   "metadata": {
    "collapsed": false
   }
  },
  {
   "cell_type": "code",
   "execution_count": null,
   "outputs": [],
   "source": [
    "# 이거 진짜 왜하는거??\n",
    "for t in [1, 2, 3, 4, 5]:\n",
    "    for lag in [1, 5, 10, 21]:\n",
    "        candles_history_info_1d[f'return_{lag}d_lag{t}'] = (candles_history_info_1d\n",
    "                                           [f'return_{lag}d'].shift(t * lag))"
   ],
   "metadata": {
    "collapsed": false
   }
  },
  {
   "cell_type": "code",
   "execution_count": null,
   "outputs": [],
   "source": [
    "for t in [1, 5, 10, 21]:\n",
    "    candles_history_info_1d[f'target_{t}d'] = candles_history_info_1d[f'return_{t}d'].shift(-t)"
   ],
   "metadata": {
    "collapsed": false
   }
  },
  {
   "cell_type": "code",
   "execution_count": null,
   "outputs": [],
   "source": [
    "candles_history_info_1d.info()"
   ],
   "metadata": {
    "collapsed": false
   }
  },
  {
   "cell_type": "code",
   "execution_count": null,
   "outputs": [],
   "source": [
    "# Nasdaq 가격도 넣으면 좋을듯?"
   ],
   "metadata": {
    "collapsed": false
   }
  },
  {
   "cell_type": "code",
   "execution_count": null,
   "outputs": [],
   "source": [
    "# 데이터 저장\n",
    "candles_history_info_1d.to_csv(\"../candle_data/candles_history_info_1d.csv\")"
   ],
   "metadata": {
    "collapsed": false
   }
  },
  {
   "cell_type": "code",
   "execution_count": null,
   "outputs": [],
   "source": [],
   "metadata": {
    "collapsed": false
   }
  }
 ],
 "metadata": {
  "kernelspec": {
   "display_name": "Python 3",
   "language": "python",
   "name": "python3"
  },
  "language_info": {
   "codemirror_mode": {
    "name": "ipython",
    "version": 2
   },
   "file_extension": ".py",
   "mimetype": "text/x-python",
   "name": "python",
   "nbconvert_exporter": "python",
   "pygments_lexer": "ipython2",
   "version": "2.7.6"
  }
 },
 "nbformat": 4,
 "nbformat_minor": 0
}
