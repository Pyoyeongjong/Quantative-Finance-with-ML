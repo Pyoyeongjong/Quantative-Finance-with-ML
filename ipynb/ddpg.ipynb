{
 "cells": [
  {
   "cell_type": "code",
   "execution_count": 10,
   "metadata": {
    "collapsed": true,
    "ExecuteTime": {
     "end_time": "2024-03-24T02:01:49.366118400Z",
     "start_time": "2024-03-24T02:01:49.290117900Z"
    }
   },
   "outputs": [],
   "source": [
    "import numpy as np\n",
    "import gym\n",
    "import gym_anytrading\n",
    "\n",
    "from tensorflow.keras.models import Sequential, Model\n",
    "from tensorflow.keras.layers import Dense, Input, concatenate\n",
    "from tensorflow.keras.optimizers import Adam"
   ]
  },
  {
   "cell_type": "code",
   "execution_count": 11,
   "outputs": [],
   "source": [
    "class DDPGAgent:\n",
    "    def __init__(self, state_size, action_size):\n",
    "        self.state_size = state_size # 환경\n",
    "        self.action_size = action_size # 행동\n",
    "        self.gamma = 0.99  # 미래가치(할인율)\n",
    "        self.tau = 0.005  # 타켓 네트워크의 소프트 업데이트 비율\n",
    "        self.memory = deque(maxlen=10000) # relpay buffer\n",
    "        self.batch_size = 64\n",
    "        self.actor_model = self.build_actor() # Agent의 현재 정책을 나타내는 모델\n",
    "        self.critic_model = self.build_critic() # 에이전트가 취한 행동의 가치를 나타내는 모델\n",
    "        self.target_actor = self.build_actor() # Actor 타겟\n",
    "        self.target_critic = self.build_critic() # Critic 타겟\n",
    "        self.target_actor.set_weights(self.actor_model.get_weights())\n",
    "        self.target_critic.set_weights(self.critic_model.get_weights())\n",
    "        self.actor_optimizer = Adam(lr=0.001)\n",
    "        self.critic_optimizer = Adam(lr=0.002)\n",
    "\n",
    "    def build_actor(self):\n",
    "        inputs = Input(shape=(self.state_size,))\n",
    "        out = Dense(400, activation=\"relu\")(inputs)\n",
    "        out = Dense(300, activation=\"relu\")(out) # Dense = 모든게 연결되어있다.\n",
    "        outputs = Dense(self.action_size, activation=\"tanh\")(out)\n",
    "        model = Model(inputs, outputs)\n",
    "        return model\n",
    "\n",
    "    def build_critic(self):\n",
    "        state_input = Input(shape=(self.state_size,))\n",
    "        action_input = Input(shape=(self.action_size,)) # 상태와 액션을 묶어서 평가하겠다.\n",
    "        concat = Concatenate()([state_input, action_input])\n",
    "        out = Dense(400, activation=\"relu\")(concat)\n",
    "        out = Dense(300, activation=\"relu\")(out)\n",
    "        outputs = Dense(1, activation=\"linear\")(out)\n",
    "        model = Model([state_input, action_input], outputs)\n",
    "        return model\n",
    "\n",
    "    def remember(self, state, action, reward, next_state, done): # memory에 저장하는 함수\n",
    "        self.memory.append((state, action, reward, next_state, done))\n",
    "\n",
    "    def act(self, state):\n",
    "        state = np.reshape(state, [1, self.state_size])\n",
    "        return self.actor_model.predict(state)[0]\n",
    "\n",
    "    # This function should be filled with code to train the actor and critic networks\n",
    "    def replay(self):\n",
    "        pass\n",
    "\n",
    "    # Implement target model update\n",
    "    def update_target(self, target_model, model):\n",
    "        target_weights = target_model.get_weights()\n",
    "        model_weights = model.get_weights()\n",
    "        for i in range(len(target_weights)):\n",
    "            target_weights[i] = self.tau * model_weights[i] + (1 - self.tau) * target_weights[i]\n",
    "        target_model.set_weights(target_weights)"
   ],
   "metadata": {
    "collapsed": false,
    "ExecuteTime": {
     "end_time": "2024-03-24T02:01:49.925116900Z",
     "start_time": "2024-03-24T02:01:49.899118400Z"
    }
   }
  },
  {
   "cell_type": "code",
   "execution_count": null,
   "outputs": [],
   "source": [],
   "metadata": {
    "collapsed": false
   }
  }
 ],
 "metadata": {
  "kernelspec": {
   "display_name": "Python 3",
   "language": "python",
   "name": "python3"
  },
  "language_info": {
   "codemirror_mode": {
    "name": "ipython",
    "version": 2
   },
   "file_extension": ".py",
   "mimetype": "text/x-python",
   "name": "python",
   "nbconvert_exporter": "python",
   "pygments_lexer": "ipython2",
   "version": "2.7.6"
  }
 },
 "nbformat": 4,
 "nbformat_minor": 0
}
